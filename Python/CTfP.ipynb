{
 "cells": [
  {
   "cell_type": "code",
   "execution_count": 31,
   "metadata": {},
   "outputs": [],
   "source": [
    "import time\n",
    "import random"
   ]
  },
  {
   "cell_type": "markdown",
   "metadata": {},
   "source": [
    "# Category Theory for Programmers\n",
    "\n",
    "[Book by Bartosz Milewski](https://bartoszmilewski.com/2014/10/28/category-theory-for-programmers-the-preface/)"
   ]
  },
  {
   "cell_type": "markdown",
   "metadata": {},
   "source": [
    "## Part One"
   ]
  },
  {
   "cell_type": "markdown",
   "metadata": {},
   "source": [
    "### Category: The Essence of Composition"
   ]
  },
  {
   "cell_type": "code",
   "execution_count": 2,
   "metadata": {},
   "outputs": [],
   "source": [
    "id_function = lambda x: x"
   ]
  },
  {
   "cell_type": "code",
   "execution_count": 3,
   "metadata": {},
   "outputs": [],
   "source": [
    "def compose(f_inner, f_outter):\n",
    "    return lambda x: f_outter(f_inner(x))"
   ]
  },
  {
   "cell_type": "code",
   "execution_count": 4,
   "metadata": {},
   "outputs": [],
   "source": [
    "add_three = lambda x : x + 3\n",
    "double = lambda x : x * 2"
   ]
  },
  {
   "cell_type": "code",
   "execution_count": 5,
   "metadata": {},
   "outputs": [
    {
     "data": {
      "text/plain": [
       "13"
      ]
     },
     "execution_count": 5,
     "metadata": {},
     "output_type": "execute_result"
    }
   ],
   "source": [
    "double_then_add = compose(double, add_three)\n",
    "double_then_add(5)"
   ]
  },
  {
   "cell_type": "code",
   "execution_count": 6,
   "metadata": {},
   "outputs": [
    {
     "name": "stdout",
     "output_type": "stream",
     "text": [
      "Test 1 passed\n",
      "Test 2 passed\n"
     ]
    }
   ],
   "source": [
    "# testing that compose repects identity\n",
    "\n",
    "x = 5\n",
    "if compose(id_function, id_function)(x) == x: print(\"Test 1 passed\")\n",
    "if compose(id_function, double)(x) == double(x): print(\"Test 2 passed\")"
   ]
  },
  {
   "cell_type": "markdown",
   "metadata": {},
   "source": [
    "### Types and Functions"
   ]
  },
  {
   "cell_type": "code",
   "execution_count": 20,
   "metadata": {},
   "outputs": [],
   "source": [
    "def memorize(foo):\n",
    "    cache = {}\n",
    "    def check_and_update_cache(x):\n",
    "        if x not in cache: cache[x] = foo(x)\n",
    "        return cache[x]\n",
    "    return lambda x : check_and_update_cache(x)"
   ]
  },
  {
   "cell_type": "code",
   "execution_count": 8,
   "metadata": {},
   "outputs": [],
   "source": [
    "def slow_double(x):\n",
    "    time.sleep(1)\n",
    "    return x * 2"
   ]
  },
  {
   "cell_type": "code",
   "execution_count": 27,
   "metadata": {},
   "outputs": [],
   "source": [
    "memorized_slow_double = memorize(slow_double)"
   ]
  },
  {
   "cell_type": "code",
   "execution_count": 28,
   "metadata": {},
   "outputs": [
    {
     "name": "stdout",
     "output_type": "stream",
     "text": [
      "Result for 1 is 2 computed in 1.0 sec\n",
      "Result for 2 is 4 computed in 1.0 sec\n",
      "Result for 3 is 6 computed in 1.0 sec\n",
      "Result for 1 is 2 computed in 0.0 sec\n",
      "Result for 2 is 4 computed in 0.0 sec\n",
      "Result for 3 is 6 computed in 0.0 sec\n"
     ]
    }
   ],
   "source": [
    "for n in [1, 2, 3, 1, 2, 3]:\n",
    "    start_time = time.time()\n",
    "    result = memorized_slow_double(n)\n",
    "    print(f\"Result for {n} is {result} computed in {time.time() - start_time:.1f} sec\")"
   ]
  },
  {
   "cell_type": "code",
   "execution_count": 73,
   "metadata": {},
   "outputs": [
    {
     "data": {
      "text/plain": [
       "732"
      ]
     },
     "execution_count": 73,
     "metadata": {},
     "output_type": "execute_result"
    }
   ],
   "source": [
    "rand_to_max_int = lambda x : random.randint(0, x)\n",
    "rand_to_max_int(1000)"
   ]
  },
  {
   "cell_type": "code",
   "execution_count": 74,
   "metadata": {},
   "outputs": [],
   "source": [
    "memorized_rand = memorize(rand_to_max_int)"
   ]
  },
  {
   "cell_type": "code",
   "execution_count": 78,
   "metadata": {},
   "outputs": [
    {
     "name": "stdout",
     "output_type": "stream",
     "text": [
      "n=100: original output 67,\tmermorized output 76\n",
      "n=200: original output 122,\tmermorized output 116\n",
      "n=300: original output 290,\tmermorized output 64\n",
      "n=100: original output 38,\tmermorized output 76\n",
      "n=200: original output 187,\tmermorized output 116\n",
      "n=300: original output 96,\tmermorized output 64\n"
     ]
    }
   ],
   "source": [
    "for n in [100, 200, 300, 100, 200, 300]:\n",
    "    print(f\"n={n}: original output {rand_to_max_int(n)},\\tmermorized output {memorized_rand(n)}\")"
   ]
  },
  {
   "cell_type": "markdown",
   "metadata": {},
   "source": [
    "### Categories Great and Small "
   ]
  },
  {
   "cell_type": "code",
   "execution_count": null,
   "metadata": {},
   "outputs": [],
   "source": []
  },
  {
   "cell_type": "markdown",
   "metadata": {},
   "source": [
    "### Kleisli Categories "
   ]
  },
  {
   "cell_type": "code",
   "execution_count": 93,
   "metadata": {},
   "outputs": [],
   "source": [
    "def compose_safe_func(f_inner, f_outter):\n",
    "    def check_if_combinable(x):\n",
    "        check, result = f_inner(x)\n",
    "        return f_outter(result) if check else (False, None)\n",
    "    return lambda x : check_if_combinable(x)        "
   ]
  },
  {
   "cell_type": "code",
   "execution_count": 89,
   "metadata": {},
   "outputs": [],
   "source": [
    "def safe_root(x):\n",
    "    return (True, x**.5) if x > 0 else (False, None)\n",
    "\n",
    "def safe_reciprocal(x):\n",
    "    return (True, 1/x) if x !=0 else (False, None)"
   ]
  },
  {
   "cell_type": "code",
   "execution_count": 99,
   "metadata": {},
   "outputs": [
    {
     "name": "stdout",
     "output_type": "stream",
     "text": [
      "(False, None)\n",
      "(True, 0.5)\n",
      "(False, None)\n"
     ]
    }
   ],
   "source": [
    "safe_root_of_reciprocal = compose_safe_func(safe_reciprocal, safe_root)\n",
    "print(safe_root_of_reciprocal(0))\n",
    "print(safe_root_of_reciprocal(4))\n",
    "print(safe_root_of_reciprocal(-5))"
   ]
  }
 ],
 "metadata": {
  "kernelspec": {
   "display_name": "Python 3",
   "language": "python",
   "name": "python3"
  },
  "language_info": {
   "codemirror_mode": {
    "name": "ipython",
    "version": 3
   },
   "file_extension": ".py",
   "mimetype": "text/x-python",
   "name": "python",
   "nbconvert_exporter": "python",
   "pygments_lexer": "ipython3",
   "version": "3.7.9"
  }
 },
 "nbformat": 4,
 "nbformat_minor": 4
}
